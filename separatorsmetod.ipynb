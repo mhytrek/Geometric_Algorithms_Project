{
 "cells": [
  {
   "cell_type": "code",
   "execution_count": 435,
   "metadata": {},
   "outputs": [],
   "source": [
    "class Node:\n",
    "    def __init__(self, x, y):\n",
    "        self.wage = 0\n",
    "        self.wage_out = 0\n",
    "        self.wage_in = 0\n",
    "        self.coordinates = (x,y)\n",
    "        self.edges_in = []\n",
    "        self.edges_out = []\n",
    "\n",
    "class Edge:\n",
    "    def __init__(self, node1, node2):\n",
    "        self.node1 = node1\n",
    "        self.node2 = node2\n",
    "        self.wage = 1\n",
    "\n",
    "class Graph:\n",
    "    def __init__(self):\n",
    "        self.nodes = []\n",
    "        self.edges = []"
   ]
  },
  {
   "cell_type": "markdown",
   "metadata": {},
   "source": [
    "### Wyznaczanie wag krawedzi"
   ]
  },
  {
   "cell_type": "code",
   "execution_count": 436,
   "metadata": {},
   "outputs": [],
   "source": [
    "def sort_from_left(v, edges):\n",
    "\n",
    "    def a(a,b):\n",
    "        return (a[1]-b[1])/(a[0]-b[0])\n",
    "    \n",
    "    def cmp(e):\n",
    "        vcoordinates = v.coordinates\n",
    "        if e.node2 != v:\n",
    "            orient = a(vcoordinates, e.node2.coordinates)\n",
    "            i = 1\n",
    "        else:\n",
    "            orient = a(vcoordinates, e.node1.coordinates)\n",
    "            i = -1\n",
    "        if orient < 0:\n",
    "            return(-1*i,-orient*i)\n",
    "        elif orient > 0:\n",
    "            return(1*i,-orient*i)\n",
    "        else:\n",
    "            return(0)\n",
    "    \n",
    "    if len(edges) == 0:\n",
    "        return None\n",
    "    edges.sort(key = lambda e: cmp(e))\n",
    "    return edges"
   ]
  },
  {
   "cell_type": "code",
   "execution_count": 437,
   "metadata": {},
   "outputs": [],
   "source": [
    "def edgeswages(graph):\n",
    "    nodes = graph.nodes\n",
    "    nodes.sort(key=lambda x: (x.coordinates[1],x.coordinates[0]))\n",
    "    for v in nodes:\n",
    "        v.wage_in = 0\n",
    "        for v_in in v.edges_in:\n",
    "            v.wage_in += v_in.wage\n",
    "        edges_sorted = sort_from_left(v, v.edges_out)\n",
    "        if edges_sorted != None and  v.wage_in > len(v.edges_out):\n",
    "            d = edges_sorted[0]\n",
    "            d.wage += v.wage_in - len(v.edges_out)\n",
    "    nodes.reverse()\n",
    "    for v in nodes:\n",
    "        v.wage_out = 0\n",
    "        for v_out in v.edges_out:\n",
    "            v.wage_out += v_out.wage\n",
    "        edges_sorted = sort_from_left(v, v.edges_in)\n",
    "        if edges_sorted != None and  v.wage_out > v.wage_in:\n",
    "            d = edges_sorted[0]\n",
    "            d.wage += v.wage_out - v.wage_in\n",
    "    return"
   ]
  },
  {
   "cell_type": "markdown",
   "metadata": {},
   "source": [
    "## Przykład do testów"
   ]
  },
  {
   "cell_type": "code",
   "execution_count": 438,
   "metadata": {},
   "outputs": [],
   "source": [
    "n1 = Node(10,0)\n",
    "n2 = Node(12,2)\n",
    "n3 = Node(5,5)\n",
    "n4 = Node(11,7)\n",
    "n5 = Node(15,8)\n",
    "n6 = Node(10,9)\n",
    "n7 = Node(14,10)\n",
    "n8 = Node(0,12)\n",
    "n9 = Node(9,15)\n",
    "nodes = [n1, n2, n3, n4, n5, n6, n7, n8, n9]\n",
    "\n",
    "e1 = Edge(n1,n2)\n",
    "e2 = Edge(n1,n3)\n",
    "e3 = Edge(n1,n4)\n",
    "e4 = Edge(n1,n5)\n",
    "e5 = Edge(n2,n5)\n",
    "e6 = Edge(n3,n4)\n",
    "e7 = Edge(n3,n6)\n",
    "e8 = Edge(n3,n8)\n",
    "e9 = Edge(n4,n5)\n",
    "e10 = Edge(n4,n6)\n",
    "e11 = Edge(n5,n6)\n",
    "e12 = Edge(n5,n7)\n",
    "e13 = Edge(n6,n7)\n",
    "e14 = Edge(n6,n9)\n",
    "e15 = Edge(n7,n9)\n",
    "e16 = Edge(n8,n9)\n",
    "edges = [e1, e2, e3, e4, e5, e6, e7, e8, e9, e10, e11, e12, e13, e14, e15, e16]\n",
    "\n",
    "for e in edges:\n",
    "    e.node1.edges_out.append(e)\n",
    "    e.node2.edges_in.append(e)\n",
    "\n",
    "graph = Graph()\n",
    "graph.edges = edges\n",
    "graph.nodes = nodes"
   ]
  },
  {
   "cell_type": "code",
   "execution_count": 439,
   "metadata": {},
   "outputs": [],
   "source": [
    "# edgeswages(graph)\n",
    "# sorted = sort_from_left(n1, n1.edges_out)\n",
    "# for edge in sorted:\n",
    "#     print(edge.node2.coordinates)"
   ]
  },
  {
   "cell_type": "code",
   "execution_count": 440,
   "metadata": {},
   "outputs": [],
   "source": [
    "# for e in edges:\n",
    "#     print(f\"waga: {e.wage}, wierz: {e.node1.coordinates}, {e.node2.coordinates}\")"
   ]
  },
  {
   "cell_type": "markdown",
   "metadata": {},
   "source": [
    "### Wyznaczanie separatorów"
   ]
  },
  {
   "cell_type": "code",
   "execution_count": 441,
   "metadata": {},
   "outputs": [],
   "source": [
    "def find_separators(graph):\n",
    "    edgeswages(graph)\n",
    "    nodes = graph.nodes\n",
    "    nodes.sort(key=lambda x: (x.coordinates[1],x.coordinates[0]))\n",
    "    separators = []\n",
    "\n",
    "    def find(v, sep, v_k):\n",
    "        if v == v_k:\n",
    "            return sep\n",
    "        if v.edges_out == None:\n",
    "            return sep\n",
    "        v.edges_out = sort_from_left(v,v.edges_out)\n",
    "        i = 0\n",
    "        while len(v.edges_out) > i and v.edges_out[i].wage == 0:\n",
    "            i += 1\n",
    "        if len(v.edges_out) <= i:\n",
    "            return None\n",
    "        v.edges_out[i].wage -=1\n",
    "        sep.append(v.edges_out[i])\n",
    "        return(find(v.edges_out[i].node2, sep, v_k))\n",
    "\n",
    "    for v in range(0,len(nodes)-1):\n",
    "        nodes[v].edges_out = sort_from_left(nodes[v], nodes[v].edges_out)\n",
    "    separator = find(nodes[0],[], nodes[-1])\n",
    "    while separator != None:\n",
    "\n",
    "        separators.append(separator)\n",
    "        separator = find(nodes[0],[], nodes[-1])\n",
    "    return separators\n"
   ]
  },
  {
   "cell_type": "code",
   "execution_count": 442,
   "metadata": {},
   "outputs": [
    {
     "name": "stdout",
     "output_type": "stream",
     "text": [
      "(5, 5)\n",
      "(0, 12)\n",
      "(9, 15)\n",
      "\n",
      "\n",
      "(5, 5)\n",
      "(10, 9)\n",
      "(9, 15)\n",
      "\n",
      "\n",
      "(5, 5)\n",
      "(11, 7)\n",
      "(10, 9)\n",
      "(9, 15)\n",
      "\n",
      "\n",
      "(11, 7)\n",
      "(15, 8)\n",
      "(10, 9)\n",
      "(9, 15)\n",
      "\n",
      "\n",
      "(15, 8)\n",
      "(10, 9)\n",
      "(14, 10)\n",
      "(9, 15)\n",
      "\n",
      "\n",
      "(12, 2)\n",
      "(15, 8)\n",
      "(14, 10)\n",
      "(9, 15)\n",
      "\n",
      "\n",
      "6\n"
     ]
    }
   ],
   "source": [
    "separators = find_separators(graph)\n",
    "for s in separators:\n",
    "    for v in s:\n",
    "        print(v.node2.coordinates)\n",
    "    print(\"\\n\")\n",
    "print(len(separators))\n"
   ]
  },
  {
   "cell_type": "markdown",
   "metadata": {},
   "source": [
    "### Drzewo Binarne przechowujące separatory"
   ]
  },
  {
   "cell_type": "code",
   "execution_count": 443,
   "metadata": {},
   "outputs": [],
   "source": [
    "class TreeNode:\n",
    "    def __init__(self, edges, id, parent):\n",
    "        self.id = id\n",
    "        self.parent = parent\n",
    "        self.right = None\n",
    "        self.left = None\n",
    "        self.edges=edges"
   ]
  },
  {
   "cell_type": "code",
   "execution_count": 444,
   "metadata": {},
   "outputs": [],
   "source": [
    "def make_Tree(separators):\n",
    "\n",
    "    # Zamień used na hashmape!!\n",
    "    # Optymalizacja by nie pamietac wszystkich krawedzi\n",
    "\n",
    "    def delete_used(separatorEdges, used):\n",
    "        i=0\n",
    "        while i < len(separatorEdges):\n",
    "            if separatorEdges[i] in used:\n",
    "                separatorEdges.pop(i)\n",
    "            else:\n",
    "                used.append(separatorEdges[i])\n",
    "                i += 1\n",
    "        return separatorEdges, used\n",
    "    \n",
    "    def create(start, stop, used, parent):\n",
    "        if stop-start == 0:\n",
    "            return None\n",
    "        sr = (stop+start)//2\n",
    "        print(sr)\n",
    "        new_edges, used = delete_used(separators[sr], used)\n",
    "        new = TreeNode(new_edges, sr, parent)\n",
    "        new.left = create(start, sr, used, new)\n",
    "        new.right = create(sr+1,stop, used, new)\n",
    "        return new\n",
    "    \n",
    "    print(len(separators))\n",
    "    top = create(0, len(separators), [], None)\n",
    "    return top\n"
   ]
  },
  {
   "cell_type": "code",
   "execution_count": 445,
   "metadata": {},
   "outputs": [
    {
     "name": "stdout",
     "output_type": "stream",
     "text": [
      "6\n",
      "3\n",
      "1\n",
      "0\n",
      "2\n",
      "5\n",
      "4\n"
     ]
    }
   ],
   "source": [
    "top = make_Tree(separators)"
   ]
  },
  {
   "cell_type": "code",
   "execution_count": 446,
   "metadata": {},
   "outputs": [],
   "source": [
    "def print_Tree(top):\n",
    "    print(top.id)\n",
    "    if top.left != None:\n",
    "        print_Tree(top.left)\n",
    "    if top.right != None:\n",
    "        print_Tree(top.right)\n",
    "    return"
   ]
  },
  {
   "cell_type": "code",
   "execution_count": 447,
   "metadata": {},
   "outputs": [
    {
     "name": "stdout",
     "output_type": "stream",
     "text": [
      "3\n",
      "1\n",
      "0\n",
      "2\n",
      "5\n",
      "4\n"
     ]
    }
   ],
   "source": [
    "print_Tree(top)"
   ]
  },
  {
   "cell_type": "markdown",
   "metadata": {},
   "source": [
    "### Lokalizacja punktu"
   ]
  },
  {
   "cell_type": "code",
   "execution_count": 448,
   "metadata": {},
   "outputs": [],
   "source": [
    "def Orientation(a, b, c):\n",
    "    temp1 = a[0] * b[1] - c[0] * b[1]\n",
    "    temp2 = b[0] * c[1] - c[1] * a[0]\n",
    "    temp3 = a[1] * c[0] - a[1] * b[0]\n",
    "    return temp1 + temp2 + temp3\n",
    "\n",
    "\n",
    "def right_left(point, edge):\n",
    "    orient = Orientation(edge.node1.coordinates, edge.node2.coordinates, point)\n",
    "    return orient\n"
   ]
  },
  {
   "cell_type": "code",
   "execution_count": 449,
   "metadata": {},
   "outputs": [],
   "source": [
    "def localize_point(point, top, last):\n",
    "    separator = top.edges\n",
    "    i = 0\n",
    "    while len(separator) > i and separator[i].node2.coordinates[1] < point[1]:\n",
    "        i += 1\n",
    "    if i >= len(separator):\n",
    "        orient = last\n",
    "    else:\n",
    "        orient = right_left(point, separator[i])\n",
    "    if  orient < 0:\n",
    "        if top.right == None:\n",
    "            return (top.id + 1, top.id+2)\n",
    "        else:\n",
    "            return localize_point(point, top.right, -1)\n",
    "    else:\n",
    "        if top.left == None:\n",
    "            return (top.id, top.id+1)\n",
    "        else:\n",
    "            return localize_point(point, top.left, 1)\n",
    "    "
   ]
  },
  {
   "cell_type": "code",
   "execution_count": 450,
   "metadata": {},
   "outputs": [
    {
     "name": "stdout",
     "output_type": "stream",
     "text": [
      "(4, 5)\n"
     ]
    }
   ],
   "source": [
    "p = [12,11]\n",
    "location = localize_point(p,top, None)\n",
    "print(location)"
   ]
  },
  {
   "cell_type": "code",
   "execution_count": 451,
   "metadata": {},
   "outputs": [],
   "source": [
    "### Krawedzie otaczające obszar na którym znajduje się punkt\n",
    "edges_upper = separators[location[0]-1]\n",
    "edges_lower = separators[location[1]-1]"
   ]
  }
 ],
 "metadata": {
  "kernelspec": {
   "display_name": "Python 3",
   "language": "python",
   "name": "python3"
  },
  "language_info": {
   "codemirror_mode": {
    "name": "ipython",
    "version": 3
   },
   "file_extension": ".py",
   "mimetype": "text/x-python",
   "name": "python",
   "nbconvert_exporter": "python",
   "pygments_lexer": "ipython3",
   "version": "3.9.6"
  }
 },
 "nbformat": 4,
 "nbformat_minor": 2
}
